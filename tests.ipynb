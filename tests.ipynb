{
 "cells": [
  {
   "cell_type": "code",
   "execution_count": 1,
   "metadata": {},
   "outputs": [],
   "source": [
    "import pandas as pd\n",
    "import os\n",
    "import numpy as np\n",
    "import random\n",
    "from arch.unitroot import PhillipsPerron\n",
    "from statsmodels.tsa.vector_ar.vecm import VAR\n",
    "from statsmodels.tsa.stattools import adfuller, coint\n",
    "from utils import Utils as Ut\n",
    "from config import Config, logger\n",
    "from main import INITIAL_INVESTMENT\n",
    "from trade import Trade"
   ]
  },
  {
   "cell_type": "code",
   "execution_count": null,
   "metadata": {},
   "outputs": [],
   "source": [
    "config = Config()\n",
    "path = Config.get_path_to_data"
   ]
  },
  {
   "cell_type": "code",
   "execution_count": null,
   "metadata": {},
   "outputs": [],
   "source": [
    "ticker1 = \"AZN\"\n",
    "ticker2 = \"PFE\"\n",
    "start_time = \"2004-06-16\"\n",
    "end_time = \"2010-06-16\"\n",
    "invest = 1000"
   ]
  },
  {
   "cell_type": "code",
   "execution_count": null,
   "metadata": {},
   "outputs": [],
   "source": [
    "'''1. Load data'''\n",
    "\n",
    "pair_paths = Ut.get_data(ticker1, ticker2, path)\n",
    "unclean_price_series1, unclean_price_series2 = Ut.open_pair_data(ticker1, ticker2, pair_paths)"
   ]
  },
  {
   "cell_type": "code",
   "execution_count": null,
   "metadata": {},
   "outputs": [],
   "source": [
    "'''2. Clean data'''\n",
    "\n",
    "price_series1_whole = Ut.clean_df(unclean_price_series1)\n",
    "price_series2_whole = Ut.clean_df(unclean_price_series2)\n",
    "price_series1_whole_nodiff = Ut.clean_df_nodiff(unclean_price_series1)\n",
    "price_series2_whole_nodiff =  Ut.clean_df_nodiff(unclean_price_series2)\n",
    "\n",
    "price_series1 = Ut.create_training_set(price_series1_whole, start_time, end_time) # Needs to be adjusted after every run. Simply add on the forecast period to this\n",
    "price_series2 = Ut.create_training_set(price_series2_whole, start_time, end_time) # Needs to be adjusted after every run. Simply add on the forecast period to this\n"
   ]
  },
  {
   "cell_type": "code",
   "execution_count": null,
   "metadata": {},
   "outputs": [],
   "source": [
    "'''3. Cointegration test'''\n",
    "\n",
    "coint_ratio = Ut.johansen_cointegration(price_series1, price_series2)\n",
    "\n",
    "logger.info(f\"Cointegration test with window\")"
   ]
  },
  {
   "cell_type": "code",
   "execution_count": null,
   "metadata": {},
   "outputs": [],
   "source": [
    "\n",
    "'''4. Unit root tests'''\n",
    "\n",
    "#ADF\n",
    "result = adfuller(price_series1)\n",
    "result2 = adfuller(price_series2)\n",
    "\n",
    "# print(\"p val\", result[1])\n",
    "# print(\"p val\", result2[1])\n",
    "# p val 1.6410552858534234e-21\n",
    "# p val 2.0682275928364335e-10\n",
    "\n",
    "#Phillips Perron\n",
    "pp1 = PhillipsPerron(price_series1, trend='n')\n",
    "# print(ticker1 + \"...\\n\", str(pp1.summary()), \"\\n\")\n",
    "pp2 = PhillipsPerron(price_series2, trend='n')\n",
    "# print(ticker2 + \"...\\n\", str(pp2.summary()))"
   ]
  },
  {
   "cell_type": "code",
   "execution_count": null,
   "metadata": {},
   "outputs": [],
   "source": [
    "'''5. Picking appropriate Lag order'''\n",
    "\n",
    "lag_candidates = set()\n",
    "\n",
    "merged_series = Ut.create_merged_series(price_series1, price_series2, ticker1, ticker2)\n",
    "\n",
    "#Pearson correlation\n",
    "lags_to_check = 40\n",
    "pearson_results = Ut.pearson_corr_lags(merged_series, lags_to_check)\n",
    "lag_candidates.add(key for key in pearson_results.keys())\n",
    "\n",
    "#VAR tests\n",
    "result1, result2 = Ut.test_lag_orders_var(merged_series)\n",
    "result_intersect = np.intersect1d(result1, result2)\n",
    "lag_candidates.add(result for result in result_intersect)\n",
    "\n",
    "logger.info(f\"Lag candidates: {lag_candidates}\")\n",
    "\n",
    "lag_order = random.choice(list(lag_candidates)) #Needs to be changed lol. For testing purposes only.\n",
    "\n",
    "logger.info(f\"Chose lag order: {lag_order}\")\n"
   ]
  },
  {
   "cell_type": "code",
   "execution_count": null,
   "metadata": {},
   "outputs": [],
   "source": [
    "\n",
    "'''6. Forecast'''\n",
    "forecast_days = lag_order\n",
    "forecasted_period = Ut.get_forecast_dates(forecast_days, end_time)\n",
    "actual1 = Ut.reveal_actual(price_series1_whole_nodiff, forecasted_period['start'], forecasted_period['end'])\n",
    "actual2 = Ut.reveal_actual(price_series2_whole_nodiff, forecasted_period['start'], forecasted_period['end'])\n",
    "price_series_whole = Ut.create_merged_series(price_series1_whole, price_series2, ticker1=\"AZN (whole)\", ticker2=\"PFE (whole)\")\n",
    "forecasted = Ut.forecasted(lag_order, merged_series, forecast_days)\n",
    "\n",
    "actual_final = Ut.create_merged_series(actual1, actual2, ticker1, ticker2)\n",
    "forecasted_final = Ut.reverse_differencing(forecasted, price_series_whole, ticker1, ticker2)"
   ]
  },
  {
   "cell_type": "code",
   "execution_count": null,
   "metadata": {},
   "outputs": [],
   "source": [
    "'''Find historical difference between the two stocks...'''\n",
    "\n",
    "price_series1_1 = Ut.create_training_set(price_series1_whole_nodiff, start_time, end_time)\n",
    "price_series2_2 = Ut.create_training_set(price_series1_whole_nodiff, start_time, end_time)\n",
    "\n",
    "historical_differences = Ut.find_historical_differences(price_series1_1, price_series2_2)\n",
    "\n",
    "std = Ut.calc_lag_std(historical_differences, lag_order)"
   ]
  },
  {
   "cell_type": "code",
   "execution_count": null,
   "metadata": {},
   "outputs": [],
   "source": [
    "'''7. Plan trades'''\n",
    "\n",
    "# Buy signal - If asset 1 is predicted to increase in price, whilst the other is predicted to decrease. Then go long.\n",
    "# Sell signal - If asset 2 is predicted to fall in price, whilst the other is predicted to increase. Then short it.\n",
    "# Basically if price of both stocks are predicted to diverge in opposite directions.\n",
    "# Represents the average distance between each value and the mean\n",
    "\n",
    "std_volatility1 = Ut.calc_lag_std(price_series1, lag_order)\n",
    "std_volatility2 = Ut.calc_lag_std(price_series2, lag_order)\n",
    "\n",
    "# trade = Trade(ticker1, ticker2)\n",
    "\n",
    "''' \n",
    "3 indicators to consider...\n",
    " 1. The historical differences between the two stocks and the standard deviation of these differences with a specific lag order\n",
    " 2. Stock1s standard deviation with a specific lag order\n",
    " 3. Stock2s standard deviation with a specific lag order\n",
    " \n",
    "A - Look at the forecasted period for both stocks and see what the difference is between both stocks and see if it is above or below indicator 1.\n",
    "B - Look at either stock and see if it matches its own historical deviation.\n",
    "\n",
    "For either stock... (all relative to historicals)\n",
    "Buy signal - If the difference for that period is very low, it suggests that stock 2 is outperforming stock 1. We bet on this eventually coming down. \n",
    "So long stock1 and short stock2\n",
    "Hold - If the differnce for that period is close to 0, it suggests that it is a relatively stable period. So hold\n",
    "Sell signal - If the difference for that period is very high, it suggests that stock 1 is outperforming stock2. We bet on this eventually coming down to \n",
    "historical norms. So short stock1 and long stock2\n",
    " '''\n",
    "\n",
    "forecasted_differences = forecasted[f'{ticker1} (forecasted)'] - forecasted[f'{ticker2} (forecasted)']\n",
    "\n",
    "forecasted_mean = np.mean(forecasted_differences)\n",
    "\n",
    "\n",
    "\n",
    "\n",
    "\n",
    "# for date, diff_val in enumerate(forecasted[ticker1]):\n",
    "#     trade.update_stock_price(actual_final[ticker1][date], actual_final[ticker2][date])\n",
    "#     # If the difference gets too high between the two stocks, we bet it on going back down by shorting "
   ]
  },
  {
   "cell_type": "code",
   "execution_count": null,
   "metadata": {},
   "outputs": [],
   "source": [
    "\n",
    "        "
   ]
  }
 ],
 "metadata": {
  "kernelspec": {
   "display_name": "Pairstrading",
   "language": "python",
   "name": "python3"
  },
  "language_info": {
   "codemirror_mode": {
    "name": "ipython",
    "version": 3
   },
   "file_extension": ".py",
   "mimetype": "text/x-python",
   "name": "python",
   "nbconvert_exporter": "python",
   "pygments_lexer": "ipython3",
   "version": "3.10.11"
  },
  "orig_nbformat": 4
 },
 "nbformat": 4,
 "nbformat_minor": 2
}
